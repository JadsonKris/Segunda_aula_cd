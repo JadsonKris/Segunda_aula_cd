{
 "cells": [
  {
   "cell_type": "code",
   "execution_count": 1,
   "metadata": {},
   "outputs": [],
   "source": [
    "from sklearn.datasets import load_iris, load_wine, load_breast_cancer, load_digits\n",
    "from sklearn.linear_model import Perceptron\n",
    "from sklearn.ensemble import RandomForestClassifier\n",
    "from sklearn.model_selection import train_test_split\n",
    "from pymfe.mfe import MFE\n",
    "import pandas as pd\n",
    "import numpy as np"
   ]
  },
  {
   "cell_type": "code",
   "execution_count": 2,
   "metadata": {},
   "outputs": [],
   "source": [
    "columns = ['name', 'can_cor.mean', 'can_cor.sd',\n",
    "           'cor.mean', 'cor.sd', 'cov.mean',\n",
    "           'cov.sd', 'eigenvalues.mean',\n",
    "           'eigenvalues.sd', 'g_mean.mean', \n",
    "           'g_mean.sd', 'gravity', 'h_mean.mean', \n",
    "           'h_mean.sd', 'iq_range.mean', 'iq_range.sd', \n",
    "           'kurtosis.mean', 'kurtosis.sd', 'lh_trace', \n",
    "           'mad.mean', 'mad.sd', 'max.mean', 'max.sd', \n",
    "           'mean.mean', 'mean.sd', 'median.mean', \n",
    "           'median.sd', 'min.mean', 'min.sd', \n",
    "           'nr_cor_attr', 'nr_disc', 'nr_norm', \n",
    "           'nr_outliers', 'p_trace', 'range.mean', \n",
    "           'range.sd', 'roy_root', 'sd.mean', 'sd.sd', \n",
    "           'sd_ratio', 'skewness.mean', 'skewness.sd', \n",
    "           'sparsity.mean', 'sparsity.sd', 't_mean.mean', \n",
    "           't_mean.sd', 'var.mean', 'var.sd', 'w_lambda', \"algorithm\"]\n",
    "\n",
    "iris_x, iris_y = load_iris(return_X_y=True)\n",
    "wine_x, wine_y = load_wine(return_X_y=True)\n",
    "cancer_x, cancer_y = load_breast_cancer(return_X_y=True)\n",
    "digits_x, digits_y = load_digits(return_X_y=True)"
   ]
  },
  {
   "cell_type": "code",
   "execution_count": 3,
   "metadata": {},
   "outputs": [],
   "source": [
    "def test(x, y, data_name):\n",
    "    result = 0\n",
    "    mfe = MFE(groups=[\"statistical\"])\n",
    "    mfe.fit(x, y)\n",
    "    ft = mfe.extract()\n",
    "    \n",
    "    X_train, X_test, y_train, y_test = train_test_split(\n",
    "    x, y, test_size=0.33, random_state=42)\n",
    "        \n",
    "    clf = Perceptron(tol=1e-3, random_state=0)\n",
    "    clf.fit(X_train, y_train)\n",
    "    score1 = clf.score(X_test, y_test)\n",
    "    \n",
    "    clf2 = RandomForestClassifier(max_depth=2, random_state=0)\n",
    "    clf2.fit(X_train, y_train)\n",
    "    score2 = clf2.score(X_test, y_test)\n",
    "    \n",
    "    if score1 > score2: result = 1\n",
    "    \n",
    "    return [data_name] + ft[1] + [result]"
   ]
  },
  {
   "cell_type": "code",
   "execution_count": 4,
   "metadata": {},
   "outputs": [
    {
     "name": "stderr",
     "output_type": "stream",
     "text": [
      "C:\\Users\\jjjad\\anaconda3\\lib\\site-packages\\pymfe\\_internal.py:1566: UserWarning: It is not possible make equal discretization\n",
      "  warnings.warn(\"It is not possible make equal discretization\")\n",
      "C:\\Users\\jjjad\\anaconda3\\lib\\site-packages\\numpy\\lib\\function_base.py:2559: RuntimeWarning: invalid value encountered in true_divide\n",
      "  c /= stddev[:, None]\n",
      "C:\\Users\\jjjad\\anaconda3\\lib\\site-packages\\numpy\\lib\\function_base.py:2560: RuntimeWarning: invalid value encountered in true_divide\n",
      "  c /= stddev[None, :]\n",
      "C:\\Users\\jjjad\\anaconda3\\lib\\site-packages\\pymfe\\_internal.py:731: RuntimeWarning: Can't summarize feature 'cor' with summary 'mean'. Will set it as 'np.nan'.\n",
      "  warnings.warn(\n",
      "C:\\Users\\jjjad\\anaconda3\\lib\\site-packages\\pymfe\\_internal.py:731: RuntimeWarning: Can't summarize feature 'cor' with summary 'sd'. Will set it as 'np.nan'.\n",
      "  warnings.warn(\n",
      "C:\\Users\\jjjad\\anaconda3\\lib\\site-packages\\scipy\\stats\\morestats.py:1678: UserWarning: Input data for shapiro has range zero. The results may not be accurate.\n",
      "  warnings.warn(\"Input data for shapiro has range zero. The results \"\n",
      "C:\\Users\\jjjad\\anaconda3\\lib\\site-packages\\pymfe\\statistical.py:1267: RuntimeWarning: divide by zero encountered in log\n",
      "  np.log(np.linalg.det(S_i)) for S_i in sample_cov_matrices\n",
      "C:\\Users\\jjjad\\anaconda3\\lib\\site-packages\\pymfe\\statistical.py:1272: RuntimeWarning: divide by zero encountered in log\n",
      "  * np.log(np.linalg.det(pooled_cov_mat))\n",
      "C:\\Users\\jjjad\\anaconda3\\lib\\site-packages\\pymfe\\statistical.py:1271: RuntimeWarning: invalid value encountered in double_scalars\n",
      "  (num_inst - num_classes)\n"
     ]
    },
    {
     "data": {
      "text/html": [
       "<div>\n",
       "<style scoped>\n",
       "    .dataframe tbody tr th:only-of-type {\n",
       "        vertical-align: middle;\n",
       "    }\n",
       "\n",
       "    .dataframe tbody tr th {\n",
       "        vertical-align: top;\n",
       "    }\n",
       "\n",
       "    .dataframe thead th {\n",
       "        text-align: right;\n",
       "    }\n",
       "</style>\n",
       "<table border=\"1\" class=\"dataframe\">\n",
       "  <thead>\n",
       "    <tr style=\"text-align: right;\">\n",
       "      <th></th>\n",
       "      <th>name</th>\n",
       "      <th>can_cor.mean</th>\n",
       "      <th>can_cor.sd</th>\n",
       "      <th>cor.mean</th>\n",
       "      <th>cor.sd</th>\n",
       "      <th>cov.mean</th>\n",
       "      <th>cov.sd</th>\n",
       "      <th>eigenvalues.mean</th>\n",
       "      <th>eigenvalues.sd</th>\n",
       "      <th>g_mean.mean</th>\n",
       "      <th>...</th>\n",
       "      <th>skewness.mean</th>\n",
       "      <th>skewness.sd</th>\n",
       "      <th>sparsity.mean</th>\n",
       "      <th>sparsity.sd</th>\n",
       "      <th>t_mean.mean</th>\n",
       "      <th>t_mean.sd</th>\n",
       "      <th>var.mean</th>\n",
       "      <th>var.sd</th>\n",
       "      <th>w_lambda</th>\n",
       "      <th>algorithm</th>\n",
       "    </tr>\n",
       "  </thead>\n",
       "  <tbody>\n",
       "    <tr>\n",
       "      <th>0</th>\n",
       "      <td>wine</td>\n",
       "      <td>0.923167</td>\n",
       "      <td>0.036686</td>\n",
       "      <td>0.304957</td>\n",
       "      <td>0.190846</td>\n",
       "      <td>40.570766</td>\n",
       "      <td>208.403872</td>\n",
       "      <td>7645.500384</td>\n",
       "      <td>27509.281977</td>\n",
       "      <td>64.214526</td>\n",
       "      <td>...</td>\n",
       "      <td>0.344289</td>\n",
       "      <td>0.465443</td>\n",
       "      <td>0.006197</td>\n",
       "      <td>0.005509</td>\n",
       "      <td>65.071108</td>\n",
       "      <td>191.571123</td>\n",
       "      <td>7645.500384</td>\n",
       "      <td>27498.760290</td>\n",
       "      <td>0.019341</td>\n",
       "      <td>0</td>\n",
       "    </tr>\n",
       "    <tr>\n",
       "      <th>1</th>\n",
       "      <td>digits</td>\n",
       "      <td>0.802985</td>\n",
       "      <td>0.119817</td>\n",
       "      <td>0.000000</td>\n",
       "      <td>0.000000</td>\n",
       "      <td>2.233279</td>\n",
       "      <td>3.627786</td>\n",
       "      <td>18.783558</td>\n",
       "      <td>37.195949</td>\n",
       "      <td>0.000000</td>\n",
       "      <td>...</td>\n",
       "      <td>4.307087</td>\n",
       "      <td>9.140055</td>\n",
       "      <td>0.141928</td>\n",
       "      <td>0.219010</td>\n",
       "      <td>4.733941</td>\n",
       "      <td>4.730131</td>\n",
       "      <td>18.783558</td>\n",
       "      <td>14.915131</td>\n",
       "      <td>0.000018</td>\n",
       "      <td>1</td>\n",
       "    </tr>\n",
       "  </tbody>\n",
       "</table>\n",
       "<p>2 rows × 50 columns</p>\n",
       "</div>"
      ],
      "text/plain": [
       "     name  can_cor.mean  can_cor.sd  cor.mean    cor.sd   cov.mean  \\\n",
       "0    wine      0.923167    0.036686  0.304957  0.190846  40.570766   \n",
       "1  digits      0.802985    0.119817  0.000000  0.000000   2.233279   \n",
       "\n",
       "       cov.sd  eigenvalues.mean  eigenvalues.sd  g_mean.mean  ...  \\\n",
       "0  208.403872       7645.500384    27509.281977    64.214526  ...   \n",
       "1    3.627786         18.783558       37.195949     0.000000  ...   \n",
       "\n",
       "   skewness.mean  skewness.sd  sparsity.mean  sparsity.sd  t_mean.mean  \\\n",
       "0       0.344289     0.465443       0.006197     0.005509    65.071108   \n",
       "1       4.307087     9.140055       0.141928     0.219010     4.733941   \n",
       "\n",
       "    t_mean.sd     var.mean        var.sd  w_lambda  algorithm  \n",
       "0  191.571123  7645.500384  27498.760290  0.019341          0  \n",
       "1    4.730131    18.783558     14.915131  0.000018          1  \n",
       "\n",
       "[2 rows x 50 columns]"
      ]
     },
     "execution_count": 4,
     "metadata": {},
     "output_type": "execute_result"
    }
   ],
   "source": [
    "linhas = []\n",
    "linhas.append(test(wine_x, wine_y, \"wine\"))\n",
    "linhas.append(test(digits_x, digits_y, \"digits\"))\n",
    "\n",
    "df = pd.DataFrame(linhas, columns = columns)\n",
    "df = df.fillna(0)\n",
    "df"
   ]
  },
  {
   "cell_type": "code",
   "execution_count": 5,
   "metadata": {},
   "outputs": [
    {
     "name": "stdout",
     "output_type": "stream",
     "text": [
      "[[ 9.23166935e-01  3.66856864e-02  3.04957481e-01  1.90846486e-01\n",
      "   4.05707659e+01  2.08403872e+02  7.64550038e+03  2.75092820e+04\n",
      "   6.42145256e+01  1.88590229e+02  1.10610641e+02  5.97797835e+01\n",
      "   1.73514597e+02  3.99298077e+01  1.33669884e+02 -6.02757289e-02\n",
      "   8.98575345e-01  1.32097812e+01  2.50798897e+01  8.27635927e+01\n",
      "   1.48290000e+02  4.62257236e+02  6.91336629e+01  2.05400096e+02\n",
      "   6.33150000e+01  1.85223937e+02  2.89707692e+01  7.71979003e+01\n",
      "   1.79487179e-01  2.00000000e+00  1.00000000e+00  7.00000000e+00\n",
      "   1.70582022e+00  1.19319231e+02  3.86177141e+02  9.08118367e+00\n",
      "   2.61777852e+01  8.68345703e+01  1.36246975e+00  3.44288886e-01\n",
      "   4.65443485e-01  6.19675720e-03  5.50929953e-03  6.50711083e+01\n",
      "   1.91571123e+02  7.64550038e+03  2.74987603e+04  1.93414866e-02]\n",
      " [ 8.02984551e-01  1.19816690e-01  0.00000000e+00  0.00000000e+00\n",
      "   2.23327927e+00  3.62778561e+00  1.87835580e+01  3.71959495e+01\n",
      "   0.00000000e+00  0.00000000e+00  2.55114618e+01  0.00000000e+00\n",
      "   0.00000000e+00  5.96875000e+00  5.13614255e+00  1.04483292e+02\n",
      "   3.13354506e+02  2.62328419e+01  3.66016875e+00  3.76342536e+00\n",
      "   1.30625000e+01  5.35078988e+00  4.88416458e+00  4.20776330e+00\n",
      "   4.71875000e+00  5.04415031e+00  0.00000000e+00  0.00000000e+00\n",
      "   3.02579365e-02  9.00000000e+00  3.00000000e+00  3.00000000e+01\n",
      "   5.91790601e+00  1.30625000e+01  5.35078988e+00  7.58413752e+00\n",
      "   3.68403164e+00  2.30091083e+00  0.00000000e+00  4.30708724e+00\n",
      "   9.14005547e+00  1.41928428e-01  2.19010074e-01  4.73394057e+00\n",
      "   4.73013102e+00  1.87835580e+01  1.49151305e+01  1.80208777e-05]]\n",
      "[0 1]\n"
     ]
    }
   ],
   "source": [
    "x = df.loc[:, df.columns != 'algorithm']\n",
    "x = x.loc[:, x.columns != 'name'].values\n",
    "\n",
    "y = df.algorithm.values\n",
    "print(x)\n",
    "print(y)"
   ]
  },
  {
   "cell_type": "code",
   "execution_count": 6,
   "metadata": {},
   "outputs": [
    {
     "data": {
      "text/plain": [
       "RandomForestClassifier(max_depth=2, random_state=0)"
      ]
     },
     "execution_count": 6,
     "metadata": {},
     "output_type": "execute_result"
    }
   ],
   "source": [
    "clf3 = RandomForestClassifier(max_depth=2, random_state=0)\n",
    "clf3.fit(x, y)"
   ]
  },
  {
   "cell_type": "code",
   "execution_count": 7,
   "metadata": {},
   "outputs": [
    {
     "name": "stdout",
     "output_type": "stream",
     "text": [
      "[0.7280089563896477, 0.363186923364524, 0.594116025760156, 0.3375443182856702, 0.5966542132736764, 0.5582672431248461, 1.1432392617449665, 2.058771301506975, 3.2230731578977903, 2.0229431040263726, 3.2082811597489393, 2.9783891110628673, 2.145948231748242, 1.7000000000000002, 1.2754084313139324, -0.8105361276250795, 0.7326910069728161, 32.477316568193444, 1.0934175, 0.5785781994035033, 5.425000000000001, 2.4431878083083722, 3.4645000000000006, 1.918485079431164, 3.6125000000000003, 1.919364043982624, 1.8499999999999999, 1.8083141320025125, 0.5, 2, 1.0, 1, 1.1918988224700764, 3.5750000000000006, 1.6500000000000001, 32.191925524309035, 0.9478670787835934, 0.5712994109375844, 1.2708666438750906, 0.06273198447775732, 0.29439896290757683, 0.0287147773948895, 0.011032357470087495, 3.4705555555555554, 1.9048021402275979, 1.1432392617449665, 1.3325463926454557, 0.0234386332222684]\n"
     ]
    }
   ],
   "source": [
    "iris_x, iris_y = load_iris(return_X_y=True)\n",
    "mfe = MFE(groups=[\"statistical\"])\n",
    "mfe.fit(iris_x, iris_y)\n",
    "ft = mfe.extract()\n",
    "print(ft[1])"
   ]
  },
  {
   "cell_type": "code",
   "execution_count": 8,
   "metadata": {},
   "outputs": [
    {
     "data": {
      "text/plain": [
       "array([1], dtype=int64)"
      ]
     },
     "execution_count": 8,
     "metadata": {},
     "output_type": "execute_result"
    }
   ],
   "source": [
    "clf3.predict([ft[1]])"
   ]
  }
 ],
 "metadata": {
  "kernelspec": {
   "display_name": "Python 3",
   "language": "python",
   "name": "python3"
  },
  "language_info": {
   "codemirror_mode": {
    "name": "ipython",
    "version": 3
   },
   "file_extension": ".py",
   "mimetype": "text/x-python",
   "name": "python",
   "nbconvert_exporter": "python",
   "pygments_lexer": "ipython3",
   "version": "3.8.5"
  }
 },
 "nbformat": 4,
 "nbformat_minor": 4
}
